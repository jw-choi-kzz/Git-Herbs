{
 "cells": [
  {
   "cell_type": "markdown",
   "id": "81e3840e-ddd3-440b-b7be-8396069354e1",
   "metadata": {},
   "source": [
    "# 학습"
   ]
  },
  {
   "cell_type": "markdown",
   "id": "5a0e0b58-7c8c-456e-9aed-1ac4f52442aa",
   "metadata": {},
   "source": [
    "import os\n",
    "os.environ['TF_ENABLE_ONEDNN_OPTS'] = '0'"
   ]
  },
  {
   "cell_type": "code",
   "execution_count": 2,
   "id": "d28092bf-74e3-4196-9fd8-adcdc342cffa",
   "metadata": {},
   "outputs": [
    {
     "name": "stderr",
     "output_type": "stream",
     "text": [
      "2024-04-02 10:25:26.143874: E external/local_xla/xla/stream_executor/cuda/cuda_dnn.cc:9261] Unable to register cuDNN factory: Attempting to register factory for plugin cuDNN when one has already been registered\n",
      "2024-04-02 10:25:26.143900: E external/local_xla/xla/stream_executor/cuda/cuda_fft.cc:607] Unable to register cuFFT factory: Attempting to register factory for plugin cuFFT when one has already been registered\n",
      "2024-04-02 10:25:26.145268: E external/local_xla/xla/stream_executor/cuda/cuda_blas.cc:1515] Unable to register cuBLAS factory: Attempting to register factory for plugin cuBLAS when one has already been registered\n",
      "2024-04-02 10:25:26.151656: I tensorflow/core/platform/cpu_feature_guard.cc:182] This TensorFlow binary is optimized to use available CPU instructions in performance-critical operations.\n",
      "To enable the following instructions: AVX2 AVX512F AVX512_VNNI AVX512_BF16 AVX_VNNI AMX_TILE AMX_INT8 AMX_BF16 FMA, in other operations, rebuild TensorFlow with the appropriate compiler flags.\n",
      "2024-04-02 10:25:26.669140: W tensorflow/compiler/tf2tensorrt/utils/py_utils.cc:38] TF-TRT Warning: Could not find TensorRT\n"
     ]
    },
    {
     "name": "stdout",
     "output_type": "stream",
     "text": [
      "4 Physical GPUs, 1 Logical GPU\n"
     ]
    },
    {
     "name": "stderr",
     "output_type": "stream",
     "text": [
      "2024-04-02 10:25:27.194112: I tensorflow/core/common_runtime/gpu/gpu_device.cc:1929] Created device /job:localhost/replica:0/task:0/device:GPU:0 with 12288 MB memory:  -> device: 2, name: NVIDIA L40S, pci bus id: 0000:ca:00.0, compute capability: 8.9\n"
     ]
    }
   ],
   "source": [
    "import tensorflow as tf\n",
    "# tf.debugging.set_log_device_placement(True) # 활성화 시 연산이 어떤 장치(cpu, gpu)에서 실행되는지 로그를 출력해줌(로그 출력은 성능을 많이 사용하니 주의)\n",
    "gpus = tf.config.list_physical_devices('GPU')\n",
    "tf.config.set_visible_devices(gpus[2], 'GPU')\n",
    "tf.config.set_logical_device_configuration(gpus[2], [tf.config.LogicalDeviceConfiguration(memory_limit=12*1024)])  # vram 12GB 할당, 필요에 따라 조절\n",
    "logical_gpus = tf.config.list_logical_devices('GPU')\n",
    "print(len(gpus), \"Physical GPUs,\", len(logical_gpus), \"Logical GPU\")"
   ]
  },
  {
   "cell_type": "code",
   "execution_count": 3,
   "id": "0de6a969-5506-42aa-ad1f-6e3499bfecc4",
   "metadata": {},
   "outputs": [],
   "source": [
    "import matplotlib.pyplot as plt\n",
    "%matplotlib inline"
   ]
  },
  {
   "cell_type": "code",
   "execution_count": 4,
   "id": "adb4b550-90fa-4a72-b322-390de51e8941",
   "metadata": {},
   "outputs": [],
   "source": [
    "train_dir = \"/home/j-j10a205/Data/herb/training/image/lanczos/\"\n",
    "validation_dir = \"/home/j-j10a205/Data/herb/validation/image/lanczos/\"\n",
    "IMG_SIZE = (224, 224)\n",
    "BATCH_SIZE = 64"
   ]
  },
  {
   "cell_type": "code",
   "execution_count": 5,
   "id": "c1dc6dbe-a956-4873-a4b7-26308c54f251",
   "metadata": {},
   "outputs": [
    {
     "name": "stderr",
     "output_type": "stream",
     "text": [
      "2024-04-02 10:25:30.578796: I external/local_xla/xla/stream_executor/cuda/cuda_driver.cc:1101] failed to allocate 12.00GiB (12884901888 bytes) from device: CUDA_ERROR_OUT_OF_MEMORY: out of memory\n",
      "2024-04-02 10:25:30.579023: I external/local_xla/xla/stream_executor/cuda/cuda_driver.cc:1101] failed to allocate 10.80GiB (11596410880 bytes) from device: CUDA_ERROR_OUT_OF_MEMORY: out of memory\n"
     ]
    }
   ],
   "source": [
    "# 사전학습된 mobilet net v3 로드\n",
    "IMG_SHAPE = IMG_SIZE + (3,)\n",
    "base_model = tf.keras.applications.MobileNetV3Large(input_shape=IMG_SHAPE, include_top=False, weights='imagenet')"
   ]
  },
  {
   "cell_type": "code",
   "execution_count": 6,
   "id": "9386c1ca-6ccc-4801-bf65-a2e6357f6ec4",
   "metadata": {
    "scrolled": true
   },
   "outputs": [],
   "source": [
    "# base_model.summary()"
   ]
  },
  {
   "cell_type": "code",
   "execution_count": 7,
   "id": "bdfb5b30-de6b-43e3-959f-2a1a8dcfdc19",
   "metadata": {},
   "outputs": [
    {
     "data": {
      "text/plain": [
       "263"
      ]
     },
     "execution_count": 7,
     "metadata": {},
     "output_type": "execute_result"
    }
   ],
   "source": [
    "len(base_model.layers)"
   ]
  },
  {
   "cell_type": "code",
   "execution_count": 8,
   "id": "908c77f8-521b-49ae-853b-aa971a46adf9",
   "metadata": {},
   "outputs": [
    {
     "name": "stdout",
     "output_type": "stream",
     "text": [
      "Found 530254 files belonging to 128 classes.\n"
     ]
    },
    {
     "name": "stderr",
     "output_type": "stream",
     "text": [
      "2024-04-02 10:25:40.920484: I external/local_tsl/tsl/platform/default/subprocess.cc:304] Start cannot spawn child process: No such file or directory\n"
     ]
    }
   ],
   "source": [
    "train_data = tf.keras.utils.image_dataset_from_directory(\n",
    "    train_dir,\n",
    "    labels=\"inferred\",\n",
    "    label_mode=\"categorical\",\n",
    "    color_mode=\"rgb\",\n",
    "    image_size=IMG_SIZE,\n",
    "    shuffle=True,\n",
    "    batch_size=BATCH_SIZE\n",
    ")"
   ]
  },
  {
   "cell_type": "code",
   "execution_count": 9,
   "id": "903f972f-7383-48f3-9ab8-5fff44d70313",
   "metadata": {},
   "outputs": [
    {
     "name": "stdout",
     "output_type": "stream",
     "text": [
      "Found 66246 files belonging to 128 classes.\n"
     ]
    }
   ],
   "source": [
    "validation_data_origin = tf.keras.utils.image_dataset_from_directory(\n",
    "    validation_dir, \n",
    "    labels=\"inferred\",\n",
    "    label_mode=\"categorical\",\n",
    "    color_mode=\"rgb\",\n",
    "    image_size=IMG_SIZE,\n",
    "    shuffle=True,\n",
    "    batch_size=BATCH_SIZE\n",
    ")"
   ]
  },
  {
   "cell_type": "code",
   "execution_count": 10,
   "id": "093ec4b2-daf3-41e9-a29b-7a4da897fd95",
   "metadata": {},
   "outputs": [
    {
     "data": {
      "text/plain": [
       "True"
      ]
     },
     "execution_count": 10,
     "metadata": {},
     "output_type": "execute_result"
    }
   ],
   "source": [
    "validation_data_origin.class_names == train_data.class_names"
   ]
  },
  {
   "cell_type": "code",
   "execution_count": 18,
   "id": "c0675103-e078-43ff-a0e6-58e36952811a",
   "metadata": {},
   "outputs": [],
   "source": [
    "result_class = validation_data_origin.class_names"
   ]
  },
  {
   "cell_type": "code",
   "execution_count": 65,
   "id": "b73cfd90-0c72-49b5-a93d-8237aa1cce84",
   "metadata": {},
   "outputs": [],
   "source": [
    "import pickle as pk\n",
    "\n",
    "with open('result.pkl','wb') as f:\n",
    "    pk.dump(result_class, f)"
   ]
  },
  {
   "cell_type": "code",
   "execution_count": 12,
   "id": "cb8a817f-f52e-4366-87ed-e3ff512a42cb",
   "metadata": {},
   "outputs": [],
   "source": [
    "# validation data와 test data 분리\n",
    "val_batches = tf.data.experimental.cardinality(validation_data_origin)\n",
    "test_data = validation_data_origin.take(val_batches // 5)\n",
    "validation_data = validation_data_origin.skip(val_batches // 5)"
   ]
  },
  {
   "cell_type": "code",
   "execution_count": 13,
   "id": "0aaef139-785b-492a-8fb6-390a7e452344",
   "metadata": {},
   "outputs": [],
   "source": [
    "AUTOTUNE = tf.data.AUTOTUNE    # -1\n",
    "# 학습 진행되는 동안 다음 데이터를 미리 로드하도록 설정\n",
    "train_dataset = train_data.prefetch(buffer_size=AUTOTUNE)\n",
    "validation_dataset = validation_data.prefetch(buffer_size=AUTOTUNE)\n",
    "test_dataset = test_data.prefetch(buffer_size=AUTOTUNE)"
   ]
  },
  {
   "cell_type": "code",
   "execution_count": 14,
   "id": "ef0aea2c-d15b-4c42-b9ac-1a47bca7a6ea",
   "metadata": {},
   "outputs": [],
   "source": [
    "# 학습 이미지를 뒤집고, 회전시켜서 다양한 학습이 가능하도록 설정\n",
    "data_augmentation = tf.keras.Sequential([tf.keras.layers.RandomFlip('horizontal'), tf.keras.layers.RandomRotation(0.2)])"
   ]
  },
  {
   "cell_type": "code",
   "execution_count": 21,
   "id": "937eca5a-4483-4184-891e-5e4c2206ed4e",
   "metadata": {},
   "outputs": [],
   "source": [
    "global_average_layer = tf.keras.layers.GlobalAveragePooling2D()\n",
    "prediction_layer = tf.keras.layers.Dense(128, activation='sigmoid')"
   ]
  },
  {
   "cell_type": "code",
   "execution_count": 22,
   "id": "e7b3eb0c-cada-4b13-9d00-53f8bbd72d6a",
   "metadata": {},
   "outputs": [
    {
     "name": "stdout",
     "output_type": "stream",
     "text": [
      "(64, 7, 7, 960)\n",
      "(64, 7, 7, 512)\n",
      "(64, 512)\n",
      "(64, 128)\n"
     ]
    }
   ],
   "source": [
    "# 특징 확인\n",
    "image_batch, label_batch = next(iter(train_dataset))\n",
    "feature_batch = base_model(image_batch)\n",
    "print(feature_batch.shape)\n",
    "dense_batch = tf.keras.layers.Dense(512, activation='relu')(feature_batch)\n",
    "print(dense_batch.shape)\n",
    "feature_batch_average = global_average_layer(dense_batch)\n",
    "print(feature_batch_average.shape)\n",
    "prediction_batch = prediction_layer(feature_batch_average)\n",
    "print(prediction_batch.shape)"
   ]
  },
  {
   "cell_type": "code",
   "execution_count": 23,
   "id": "db362df1-7df1-4b2c-a05b-e2cb4c9576d2",
   "metadata": {},
   "outputs": [],
   "source": [
    "inputs = tf.keras.Input(shape=(224, 224, 3))\n",
    "x1 = data_augmentation(inputs)\n",
    "x1 = base_model(x1, training=False)\n",
    "x1 = tf.keras.layers.Dense(512, activation='relu')(x1)\n",
    "x1 = global_average_layer(x1)\n",
    "x1 = tf.keras.layers.Dropout(0.5)(x1)\n",
    "outputs = prediction_layer(x1)\n",
    "model1 = tf.keras.Model(inputs, outputs)"
   ]
  },
  {
   "cell_type": "code",
   "execution_count": 24,
   "id": "7940f043-990f-4344-afe0-26e9b5a43834",
   "metadata": {},
   "outputs": [],
   "source": [
    "base_learning_rate = 0.0001\n",
    "model1.compile(optimizer=tf.keras.optimizers.AdamW(learning_rate=base_learning_rate),\n",
    "              loss=tf.keras.losses.CategoricalCrossentropy(),\n",
    "              metrics=['accuracy'])"
   ]
  },
  {
   "cell_type": "code",
   "execution_count": 25,
   "id": "826c2c64-cc58-4546-8b84-014667175706",
   "metadata": {},
   "outputs": [],
   "source": [
    "initial_epochs = 10\n",
    "checkpoint_path = '/home/j-j10a205/checkpoints/v2/checkpoint'\n",
    "cp_callback = tf.keras.callbacks.ModelCheckpoint(filepath=checkpoint_path, save_weights_only=True, verbose=1)"
   ]
  },
  {
   "cell_type": "code",
   "execution_count": 26,
   "id": "5600de83-f63b-4926-9b83-5f88a55b02cb",
   "metadata": {
    "scrolled": true
   },
   "outputs": [
    {
     "name": "stdout",
     "output_type": "stream",
     "text": [
      "Epoch 1/10\n",
      "8286/8286 [==============================] - ETA: 0s - loss: 1.2868 - accuracy: 0.6763\n",
      "Epoch 1: saving model to /home/j-j10a205/checkpoints/v2/checkpoint\n",
      "8286/8286 [==============================] - 971s 115ms/step - loss: 1.2868 - accuracy: 0.6763 - val_loss: 0.5110 - val_accuracy: 0.8552\n",
      "Epoch 2/10\n",
      "8285/8286 [============================>.] - ETA: 0s - loss: 0.4620 - accuracy: 0.8705\n",
      "Epoch 2: saving model to /home/j-j10a205/checkpoints/v2/checkpoint\n",
      "8286/8286 [==============================] - 938s 113ms/step - loss: 0.4620 - accuracy: 0.8705 - val_loss: 0.3109 - val_accuracy: 0.9103\n",
      "Epoch 3/10\n",
      "8285/8286 [============================>.] - ETA: 0s - loss: 0.3023 - accuracy: 0.9136\n",
      "Epoch 3: saving model to /home/j-j10a205/checkpoints/v2/checkpoint\n",
      "8286/8286 [==============================] - 711s 86ms/step - loss: 0.3023 - accuracy: 0.9136 - val_loss: 0.2657 - val_accuracy: 0.9235\n",
      "Epoch 4/10\n",
      "8285/8286 [============================>.] - ETA: 0s - loss: 0.2235 - accuracy: 0.9348\n",
      "Epoch 4: saving model to /home/j-j10a205/checkpoints/v2/checkpoint\n",
      "8286/8286 [==============================] - 444s 54ms/step - loss: 0.2235 - accuracy: 0.9348 - val_loss: 0.2084 - val_accuracy: 0.9409\n",
      "Epoch 5/10\n",
      "8285/8286 [============================>.] - ETA: 0s - loss: 0.1756 - accuracy: 0.9486\n",
      "Epoch 5: saving model to /home/j-j10a205/checkpoints/v2/checkpoint\n",
      "8286/8286 [==============================] - 445s 54ms/step - loss: 0.1756 - accuracy: 0.9486 - val_loss: 0.1897 - val_accuracy: 0.9455\n",
      "Epoch 6/10\n",
      "8285/8286 [============================>.] - ETA: 0s - loss: 0.1449 - accuracy: 0.9570\n",
      "Epoch 6: saving model to /home/j-j10a205/checkpoints/v2/checkpoint\n",
      "8286/8286 [==============================] - 444s 54ms/step - loss: 0.1449 - accuracy: 0.9570 - val_loss: 0.1972 - val_accuracy: 0.9435\n",
      "Epoch 7/10\n",
      "8285/8286 [============================>.] - ETA: 0s - loss: 0.1226 - accuracy: 0.9636\n",
      "Epoch 7: saving model to /home/j-j10a205/checkpoints/v2/checkpoint\n",
      "8286/8286 [==============================] - 443s 53ms/step - loss: 0.1226 - accuracy: 0.9636 - val_loss: 0.1544 - val_accuracy: 0.9570\n",
      "Epoch 8/10\n",
      "8285/8286 [============================>.] - ETA: 0s - loss: 0.1082 - accuracy: 0.9681\n",
      "Epoch 8: saving model to /home/j-j10a205/checkpoints/v2/checkpoint\n",
      "8286/8286 [==============================] - 444s 54ms/step - loss: 0.1082 - accuracy: 0.9681 - val_loss: 0.1475 - val_accuracy: 0.9605\n",
      "Epoch 9/10\n",
      "8285/8286 [============================>.] - ETA: 0s - loss: 0.0957 - accuracy: 0.9716\n",
      "Epoch 9: saving model to /home/j-j10a205/checkpoints/v2/checkpoint\n",
      "8286/8286 [==============================] - 442s 53ms/step - loss: 0.0957 - accuracy: 0.9716 - val_loss: 0.1425 - val_accuracy: 0.9616\n",
      "Epoch 10/10\n",
      "8285/8286 [============================>.] - ETA: 0s - loss: 0.0864 - accuracy: 0.9742\n",
      "Epoch 10: saving model to /home/j-j10a205/checkpoints/v2/checkpoint\n",
      "8286/8286 [==============================] - 441s 53ms/step - loss: 0.0864 - accuracy: 0.9742 - val_loss: 0.1537 - val_accuracy: 0.9586\n"
     ]
    }
   ],
   "source": [
    "history = model1.fit(train_dataset, epochs=initial_epochs, validation_data=validation_dataset, callbacks=[cp_callback])"
   ]
  },
  {
   "cell_type": "code",
   "execution_count": 27,
   "id": "36ad200f-22bb-4567-af01-508a7397b8d0",
   "metadata": {},
   "outputs": [
    {
     "name": "stdout",
     "output_type": "stream",
     "text": [
      "INFO:tensorflow:Assets written to: /home/j-j10a205/v2/model/assets\n"
     ]
    },
    {
     "name": "stderr",
     "output_type": "stream",
     "text": [
      "INFO:tensorflow:Assets written to: /home/j-j10a205/v2/model/assets\n"
     ]
    }
   ],
   "source": [
    "model_path = '/home/j-j10a205/v2/model'\n",
    "model1.save(model_path)"
   ]
  },
  {
   "cell_type": "code",
   "execution_count": 28,
   "id": "18c16dfe-cf56-4094-87b8-4c135df08948",
   "metadata": {},
   "outputs": [],
   "source": [
    "weights_path = '/home/j-j10a205/v2/weights/weights'\n",
    "model1.save_weights(weights_path)"
   ]
  },
  {
   "cell_type": "code",
   "execution_count": 29,
   "id": "5f0a74cb-309b-4357-9732-1ac428f9580e",
   "metadata": {},
   "outputs": [
    {
     "data": {
      "image/png": "[encoded data removed]",
      "text/plain": [
       "<Figure size 800x800 with 2 Axes>"
      ]
     },
     "metadata": {},
     "output_type": "display_data"
    }
   ],
   "source": [
    "acc = history.history['accuracy']\n",
    "val_acc = history.history['val_accuracy']\n",
    "\n",
    "loss = history.history['loss']\n",
    "val_loss = history.history['val_loss']\n",
    "\n",
    "plt.figure(figsize=(8, 8))\n",
    "plt.subplot(2, 1, 1)\n",
    "plt.plot(acc, label='Training Accuracy')\n",
    "plt.plot(val_acc, label='Validation Accuracy')\n",
    "plt.legend(loc='lower right')\n",
    "plt.ylabel('Accuracy')\n",
    "plt.ylim([min(plt.ylim()),1])\n",
    "plt.title('Training and Validation Accuracy')\n",
    "\n",
    "plt.subplot(2, 1, 2)\n",
    "plt.plot(loss, label='Training Loss')\n",
    "plt.plot(val_loss, label='Validation Loss')\n",
    "plt.legend(loc='upper right')\n",
    "plt.ylabel('Cross Entropy')\n",
    "plt.ylim([0,1.0])\n",
    "plt.title('Training and Validation Loss')\n",
    "plt.xlabel('epoch')\n",
    "plt.show()"
   ]
  },
  {
   "cell_type": "code",
   "execution_count": 31,
   "id": "d96c2e9f-988e-429e-95c9-a2b49b4233b1",
   "metadata": {},
   "outputs": [
    {
     "name": "stdout",
     "output_type": "stream",
     "text": [
      "207/207 [==============================] - 3s 15ms/step - loss: 0.1402 - accuracy: 0.9593\n"
     ]
    }
   ],
   "source": [
    "loss0, accuracy0 = model1.evaluate(test_dataset)"
   ]
  },
  {
   "cell_type": "code",
   "execution_count": 8,
   "id": "411bcf97-3e0b-4214-ae4e-80c060b29a1c",
   "metadata": {},
   "outputs": [
    {
     "ename": "NameError",
     "evalue": "name 'base_model' is not defined",
     "output_type": "error",
     "traceback": [
      "\u001b[0;31m---------------------------------------------------------------------------\u001b[0m",
      "\u001b[0;31mNameError\u001b[0m                                 Traceback (most recent call last)",
      "Cell \u001b[0;32mIn[8], line 1\u001b[0m\n\u001b[0;32m----> 1\u001b[0m \u001b[38;5;28;01mdel\u001b[39;00m \u001b[43mbase_model\u001b[49m\n\u001b[1;32m      2\u001b[0m \u001b[38;5;28;01mdel\u001b[39;00m model\n",
      "\u001b[0;31mNameError\u001b[0m: name 'base_model' is not defined"
     ]
    }
   ],
   "source": [
    "del base_model\n",
    "del model1"
   ]
  },
  {
   "cell_type": "markdown",
   "id": "aed365f8-f5fc-4de1-a99f-b277ee66130b",
   "metadata": {},
   "source": [
    "# 서비스"
   ]
  },
  {
   "cell_type": "code",
   "execution_count": 11,
   "id": "fbc72f79-1f39-4c32-8c00-44cc3c163fcf",
   "metadata": {},
   "outputs": [],
   "source": [
    "model_load_path = '/home/j-j10a205/v2/model'\n",
    "model1 = tf.keras.models.load_model(model_load_path)"
   ]
  },
  {
   "cell_type": "code",
   "execution_count": 59,
   "id": "bfcaad2f-a67b-43fc-8f88-ef2481b099d9",
   "metadata": {},
   "outputs": [
    {
     "data": {
      "text/plain": [
       "TensorShape([1, 224, 224, 3])"
      ]
     },
     "execution_count": 59,
     "metadata": {},
     "output_type": "execute_result"
    }
   ],
   "source": [
    "test_img_path2 = '/home/j-j10a205/down.jpg'\n",
    "INTERPOLATION = 'lanczos3'\n",
    "# 이미지 읽어오기\n",
    "image3 = tf.io.read_file(test_img_path2)\n",
    "image3 = tf.io.decode_image(image3, channels=3)\n",
    "\n",
    "# 이미지 리사이즈\n",
    "image3 = tf.image.resize(image3, IMG_SIZE, method=INTERPOLATION)\n",
    "\n",
    "# predict에 활용하기 위한 차원 변경\n",
    "image4 = image3[tf.newaxis, ...]\n",
    "image4.shape"
   ]
  },
  {
   "cell_type": "code",
   "execution_count": 60,
   "id": "a405aafd-7b6e-44fe-b950-d73ef1ded5e9",
   "metadata": {},
   "outputs": [
    {
     "name": "stdout",
     "output_type": "stream",
     "text": [
      "1/1 [==============================] - 0s 309ms/step\n"
     ]
    }
   ],
   "source": [
    "test_result2 = model1.predict(image4).flatten()"
   ]
  },
  {
   "cell_type": "code",
   "execution_count": 61,
   "id": "d3e00b5b-73d3-493f-9611-95b72284c082",
   "metadata": {},
   "outputs": [],
   "source": [
    "test_enumerate2 = list(enumerate(test_result2))\n",
    "test_enumerate2.sort(key=lambda x: -x[1])\n",
    "test_enumerate2 = list(map(lambda x: (x[0], round(x[1], 12)), test_enumerate2))"
   ]
  },
  {
   "cell_type": "code",
   "execution_count": 62,
   "id": "16f1d129-f277-415c-9e30-c251e16dcdf1",
   "metadata": {
    "scrolled": true
   },
   "outputs": [
    {
     "data": {
      "text/plain": [
       "[(20, 0.99706584),\n",
       " (19, 0.924121),\n",
       " (23, 0.4687734),\n",
       " (108, 0.27852005),\n",
       " (14, 0.023745295),\n",
       " (40, 0.015766082),\n",
       " (119, 0.0019755794),\n",
       " (82, 0.001805473),\n",
       " (97, 0.0011713377),\n",
       " (76, 0.00073330686),\n",
       " (99, 0.0006964354),\n",
       " (47, 0.0005029955),\n",
       " (25, 0.00045550888),\n",
       " (10, 0.0004392833),\n",
       " (98, 0.00037118385),\n",
       " (68, 0.00032307222),\n",
       " (17, 0.00026939285),\n",
       " (31, 0.00018726064),\n",
       " (102, 0.00018598816),\n",
       " (80, 8.398171e-05),\n",
       " (105, 5.739854e-05),\n",
       " (21, 4.9956576e-05),\n",
       " (34, 4.578979e-05),\n",
       " (9, 3.6639613e-05),\n",
       " (83, 2.971556e-05),\n",
       " (46, 2.1471082e-05),\n",
       " (5, 2.0479585e-05),\n",
       " (74, 1.8982844e-05),\n",
       " (71, 1.762535e-05),\n",
       " (77, 1.4350704e-05),\n",
       " (4, 1.3943012e-05),\n",
       " (64, 1.3707045e-05),\n",
       " (104, 1.1303966e-05),\n",
       " (11, 1.0575361e-05),\n",
       " (12, 8.701967e-06),\n",
       " (15, 6.783792e-06),\n",
       " (54, 6.778269e-06),\n",
       " (95, 5.732368e-06),\n",
       " (78, 5.363671e-06),\n",
       " (81, 4.839648e-06),\n",
       " (16, 4.7405e-06),\n",
       " (49, 4.698714e-06),\n",
       " (18, 4.578558e-06),\n",
       " (88, 4.339008e-06),\n",
       " (52, 4.024437e-06),\n",
       " (43, 3.884952e-06),\n",
       " (41, 3.342859e-06),\n",
       " (63, 3.086131e-06),\n",
       " (39, 2.848734e-06),\n",
       " (124, 2.005342e-06),\n",
       " (96, 1.714966e-06),\n",
       " (13, 1.561885e-06),\n",
       " (51, 1.556201e-06),\n",
       " (29, 1.477555e-06),\n",
       " (30, 1.416104e-06),\n",
       " (50, 1.319705e-06),\n",
       " (37, 1.127422e-06),\n",
       " (35, 1.103765e-06),\n",
       " (28, 1.094107e-06),\n",
       " (8, 9.76949e-07),\n",
       " (120, 9.17181e-07),\n",
       " (87, 8.98981e-07),\n",
       " (94, 7.23374e-07),\n",
       " (66, 6.98875e-07),\n",
       " (89, 6.71401e-07),\n",
       " (101, 6.68519e-07),\n",
       " (67, 6.3177e-07),\n",
       " (55, 5.50536e-07),\n",
       " (59, 5.49339e-07),\n",
       " (0, 4.87372e-07),\n",
       " (73, 4.66976e-07),\n",
       " (103, 4.60531e-07),\n",
       " (44, 4.36213e-07),\n",
       " (115, 3.94819e-07),\n",
       " (70, 3.69505e-07),\n",
       " (121, 3.68218e-07),\n",
       " (2, 3.65532e-07),\n",
       " (57, 3.48189e-07),\n",
       " (79, 3.33941e-07),\n",
       " (113, 2.85856e-07),\n",
       " (22, 2.77305e-07),\n",
       " (84, 2.67667e-07),\n",
       " (92, 2.6225e-07),\n",
       " (60, 2.31724e-07),\n",
       " (56, 2.17842e-07),\n",
       " (125, 2.0231e-07),\n",
       " (26, 1.95762e-07),\n",
       " (126, 1.27903e-07),\n",
       " (106, 1.24477e-07),\n",
       " (1, 1.09657e-07),\n",
       " (117, 8.8609e-08),\n",
       " (53, 8.2884e-08),\n",
       " (123, 7.5071e-08),\n",
       " (127, 7.3703e-08),\n",
       " (100, 7.3686e-08),\n",
       " (48, 7.3447e-08),\n",
       " (72, 7.0375e-08),\n",
       " (32, 5.9333e-08),\n",
       " (65, 5.8262e-08),\n",
       " (109, 5.5792e-08),\n",
       " (90, 5.2883e-08),\n",
       " (45, 4.6508e-08),\n",
       " (69, 4.5567e-08),\n",
       " (7, 4.4491e-08),\n",
       " (85, 4.2699e-08),\n",
       " (114, 4.1356e-08),\n",
       " (42, 4.1301e-08),\n",
       " (107, 3.738e-08),\n",
       " (36, 3.5972e-08),\n",
       " (58, 3.3946e-08),\n",
       " (3, 3.0834e-08),\n",
       " (112, 2.774e-08),\n",
       " (33, 2.5545e-08),\n",
       " (27, 2.3783e-08),\n",
       " (38, 1.9226e-08),\n",
       " (110, 1.3834e-08),\n",
       " (24, 1.2416e-08),\n",
       " (122, 1.0771e-08),\n",
       " (62, 9.872e-09),\n",
       " (6, 7.266e-09),\n",
       " (93, 6.836e-09),\n",
       " (86, 3.838e-09),\n",
       " (116, 3.559e-09),\n",
       " (61, 2.651e-09),\n",
       " (118, 1.737e-09),\n",
       " (75, 1.63e-09),\n",
       " (91, 1.51e-09),\n",
       " (111, 4e-12)]"
      ]
     },
     "execution_count": 62,
     "metadata": {},
     "output_type": "execute_result"
    }
   ],
   "source": [
    "test_enumerate2"
   ]
  },
  {
   "cell_type": "code",
   "execution_count": 63,
   "id": "007ffdd8-06af-4682-9363-c866347ad28b",
   "metadata": {},
   "outputs": [
    {
     "data": {
      "text/plain": [
       "'023_파(실파)'"
      ]
     },
     "execution_count": 63,
     "metadata": {},
     "output_type": "execute_result"
    }
   ],
   "source": [
    "result_class[20]"
   ]
  },
  {
   "cell_type": "code",
   "execution_count": 64,
   "id": "f1f3fdcc-2c69-462a-a152-dd6196ee9235",
   "metadata": {},
   "outputs": [
    {
     "data": {
      "text/plain": [
       "'022_부추'"
      ]
     },
     "execution_count": 64,
     "metadata": {},
     "output_type": "execute_result"
    }
   ],
   "source": [
    "result_class[19]"
   ]
  },
  {
   "cell_type": "markdown",
   "id": "1c186110-6023-4e9c-9727-b5ac24c2f4e3",
   "metadata": {},
   "source": [
    "test_img_path3 = '/home/j-j10a205/test.PNG'\n",
    "INTERPOLATION = 'lanczos3'\n",
    "# 이미지 읽어오기\n",
    "image5 = tf.io.read_file(test_img_path3)\n",
    "image5 = tf.io.decode_image(image5, channels=3)\n",
    "\n",
    "# 이미지 리사이즈\n",
    "image5 = tf.image.resize(image5, IMG_SIZE, method=INTERPOLATION)\n",
    "\n",
    "# predict에 활용하기 위한 차원 변경\n",
    "image6 = image5[tf.newaxis, ...]\n",
    "image6.shape"
   ]
  },
  {
   "cell_type": "code",
   "execution_count": 45,
   "id": "c81a83b6-0ca6-4b0a-8158-554233cb3bd7",
   "metadata": {},
   "outputs": [
    {
     "name": "stdout",
     "output_type": "stream",
     "text": [
      "1/1 [==============================] - 0s 17ms/step\n"
     ]
    }
   ],
   "source": [
    "test_result3 = model1.predict(image6).flatten()"
   ]
  },
  {
   "cell_type": "code",
   "execution_count": 46,
   "id": "3559812a-1564-4dd6-adbb-f7fd222799c4",
   "metadata": {},
   "outputs": [],
   "source": [
    "test_enumerate3 = list(enumerate(test_result3))\n",
    "test_enumerate3.sort(key=lambda x: -x[1])\n",
    "test_enumerate3 = list(map(lambda x: (x[0], round(x[1], 12)), test_enumerate3))"
   ]
  },
  {
   "cell_type": "code",
   "execution_count": 47,
   "id": "59a99f4f-c5c5-4e9f-8308-5a747622c8e0",
   "metadata": {
    "scrolled": true
   },
   "outputs": [
    {
     "data": {
      "text/plain": [
       "[(73, 0.95535564),\n",
       " (107, 0.015985712),\n",
       " (119, 0.010034647),\n",
       " (60, 0.0034036103),\n",
       " (74, 0.0016388617),\n",
       " (105, 0.0015613775),\n",
       " (1, 0.0008447312),\n",
       " (37, 0.0006726951),\n",
       " (18, 0.00062107603),\n",
       " (54, 0.00043939683),\n",
       " (0, 0.0003241854),\n",
       " (106, 0.0003151964),\n",
       " (96, 0.00023712717),\n",
       " (39, 0.00019854451),\n",
       " (10, 0.00016603402),\n",
       " (65, 0.00015134052),\n",
       " (38, 0.0001360104),\n",
       " (11, 0.00011677126),\n",
       " (67, 7.523816e-05),\n",
       " (49, 7.100092e-05),\n",
       " (2, 6.783808e-05),\n",
       " (41, 4.7654918e-05),\n",
       " (124, 4.5266574e-05),\n",
       " (123, 4.4323275e-05),\n",
       " (118, 4.055163e-05),\n",
       " (8, 3.6873724e-05),\n",
       " (100, 3.4631383e-05),\n",
       " (27, 2.3377515e-05),\n",
       " (108, 2.3132461e-05),\n",
       " (104, 1.9639167e-05),\n",
       " (3, 1.9457313e-05),\n",
       " (44, 1.8621922e-05),\n",
       " (15, 1.4016591e-05),\n",
       " (12, 1.3621105e-05),\n",
       " (87, 1.2930324e-05),\n",
       " (89, 1.1223746e-05),\n",
       " (98, 9.90025e-06),\n",
       " (76, 8.749474e-06),\n",
       " (51, 6.881446e-06),\n",
       " (48, 6.221979e-06),\n",
       " (16, 5.76052e-06),\n",
       " (75, 5.554499e-06),\n",
       " (7, 5.239536e-06),\n",
       " (64, 4.984596e-06),\n",
       " (61, 4.506762e-06),\n",
       " (40, 4.498398e-06),\n",
       " (45, 3.916572e-06),\n",
       " (6, 3.716414e-06),\n",
       " (90, 3.58867e-06),\n",
       " (120, 3.486494e-06),\n",
       " (23, 3.074598e-06),\n",
       " (9, 3.011067e-06),\n",
       " (103, 2.875577e-06),\n",
       " (86, 2.847496e-06),\n",
       " (71, 2.575216e-06),\n",
       " (97, 2.216314e-06),\n",
       " (14, 2.162404e-06),\n",
       " (35, 2.133798e-06),\n",
       " (52, 2.114445e-06),\n",
       " (83, 2.089767e-06),\n",
       " (36, 1.946045e-06),\n",
       " (28, 1.864449e-06),\n",
       " (99, 1.834524e-06),\n",
       " (5, 1.741691e-06),\n",
       " (57, 1.735071e-06),\n",
       " (72, 1.611226e-06),\n",
       " (78, 1.538492e-06),\n",
       " (66, 1.285832e-06),\n",
       " (77, 1.24967e-06),\n",
       " (43, 1.130186e-06),\n",
       " (117, 1.12431e-06),\n",
       " (80, 1.012073e-06),\n",
       " (91, 9.09876e-07),\n",
       " (81, 8.51015e-07),\n",
       " (50, 8.26634e-07),\n",
       " (31, 8.14477e-07),\n",
       " (17, 8.0539e-07),\n",
       " (113, 7.14061e-07),\n",
       " (46, 6.9531e-07),\n",
       " (114, 6.79922e-07),\n",
       " (59, 6.45265e-07),\n",
       " (62, 6.38268e-07),\n",
       " (82, 5.69096e-07),\n",
       " (84, 5.33636e-07),\n",
       " (4, 4.84039e-07),\n",
       " (42, 4.77979e-07),\n",
       " (121, 4.65136e-07),\n",
       " (95, 3.99631e-07),\n",
       " (94, 3.38236e-07),\n",
       " (34, 3.3564e-07),\n",
       " (109, 3.29214e-07),\n",
       " (26, 2.7538e-07),\n",
       " (111, 2.49204e-07),\n",
       " (53, 2.26636e-07),\n",
       " (33, 2.15907e-07),\n",
       " (116, 1.8996e-07),\n",
       " (21, 1.67555e-07),\n",
       " (25, 1.55471e-07),\n",
       " (126, 1.55187e-07),\n",
       " (115, 1.52096e-07),\n",
       " (24, 1.18825e-07),\n",
       " (58, 1.07462e-07),\n",
       " (69, 9.6059e-08),\n",
       " (79, 9.0473e-08),\n",
       " (63, 8.1305e-08),\n",
       " (32, 7.0844e-08),\n",
       " (93, 6.598e-08),\n",
       " (22, 6.4755e-08),\n",
       " (68, 4.5936e-08),\n",
       " (19, 3.9819e-08),\n",
       " (13, 3.2253e-08),\n",
       " (70, 2.8591e-08),\n",
       " (29, 2.5208e-08),\n",
       " (127, 2.3542e-08),\n",
       " (20, 2.3194e-08),\n",
       " (30, 2.1683e-08),\n",
       " (102, 2.1323e-08),\n",
       " (112, 2.1199e-08),\n",
       " (56, 1.2577e-08),\n",
       " (125, 1.154e-08),\n",
       " (101, 1.1344e-08),\n",
       " (55, 1.0261e-08),\n",
       " (122, 9.736e-09),\n",
       " (110, 6.736e-09),\n",
       " (88, 4.721e-09),\n",
       " (85, 2.441e-09),\n",
       " (47, 7.66e-10),\n",
       " (92, 6.71e-10)]"
      ]
     },
     "execution_count": 47,
     "metadata": {},
     "output_type": "execute_result"
    }
   ],
   "source": [
    "test_enumerate3"
   ]
  },
  {
   "cell_type": "code",
   "execution_count": 48,
   "id": "459f3d40-6411-48d5-8845-13d23c363587",
   "metadata": {},
   "outputs": [
    {
     "data": {
      "text/plain": [
       "'079_오미자'"
      ]
     },
     "execution_count": 48,
     "metadata": {},
     "output_type": "execute_result"
    }
   ],
   "source": [
    "result_class[73]"
   ]
  },
  {
   "cell_type": "markdown",
   "id": "3e0ad97f-d3dc-44b2-87a8-0c366847353b",
   "metadata": {},
   "source": [
    "# 모델압축"
   ]
  },
  {
   "cell_type": "code",
   "execution_count": 66,
   "id": "6f3c3ee0-5d0d-4580-8c87-64025cf1047a",
   "metadata": {},
   "outputs": [
    {
     "data": {
      "text/plain": [
       "'/home/j-j10a205/v2/modelv2.zip'"
      ]
     },
     "execution_count": 66,
     "metadata": {},
     "output_type": "execute_result"
    }
   ],
   "source": [
    "import shutil\n",
    "shutil.make_archive('/home/j-j10a205/v2/modelv2', 'zip', '/home/j-j10a205/v2/model')"
   ]
  },
  {
   "cell_type": "code",
   "execution_count": null,
   "id": "c6c2ff90-efd0-4f26-9510-1d683c2eb1a7",
   "metadata": {},
   "outputs": [],
   "source": []
  }
 ],
 "metadata": {
  "kernelspec": {
   "display_name": "herb",
   "language": "python",
   "name": "herb"
  },
  "language_info": {
   "codemirror_mode": {
    "name": "ipython",
    "version": 3
   },
   "file_extension": ".py",
   "mimetype": "text/x-python",
   "name": "python",
   "nbconvert_exporter": "python",
   "pygments_lexer": "ipython3",
   "version": "3.11.8"
  }
 },
 "nbformat": 4,
 "nbformat_minor": 5
}
