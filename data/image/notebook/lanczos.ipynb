{
 "cells": [
  {
   "cell_type": "markdown",
   "id": "74b02159-6dfe-4fe4-8971-92c95da70c97",
   "metadata": {},
   "source": [
    "# 데이터 전처리 ( 이미지 해상도 조절 )"
   ]
  },
  {
   "cell_type": "code",
   "execution_count": 1,
   "id": "bdb4504f-905b-478c-a58b-44ce89e7b8cf",
   "metadata": {},
   "outputs": [],
   "source": [
    "import os\n",
    "os.environ['TF_ENABLE_ONEDNN_OPTS'] = '0'"
   ]
  },
  {
   "cell_type": "code",
   "execution_count": 2,
   "id": "efee8313-e5e9-4e6a-b79f-97f65274c878",
   "metadata": {},
   "outputs": [
    {
     "name": "stderr",
     "output_type": "stream",
     "text": [
      "2024-03-27 08:42:01.864881: E external/local_xla/xla/stream_executor/cuda/cuda_dnn.cc:9261] Unable to register cuDNN factory: Attempting to register factory for plugin cuDNN when one has already been registered\n",
      "2024-03-27 08:42:01.864919: E external/local_xla/xla/stream_executor/cuda/cuda_fft.cc:607] Unable to register cuFFT factory: Attempting to register factory for plugin cuFFT when one has already been registered\n",
      "2024-03-27 08:42:01.867445: E external/local_xla/xla/stream_executor/cuda/cuda_blas.cc:1515] Unable to register cuBLAS factory: Attempting to register factory for plugin cuBLAS when one has already been registered\n",
      "2024-03-27 08:42:01.873872: I tensorflow/core/platform/cpu_feature_guard.cc:182] This TensorFlow binary is optimized to use available CPU instructions in performance-critical operations.\n",
      "To enable the following instructions: AVX2 AVX512F AVX512_VNNI AVX512_BF16 AVX_VNNI AMX_TILE AMX_INT8 AMX_BF16 FMA, in other operations, rebuild TensorFlow with the appropriate compiler flags.\n",
      "2024-03-27 08:42:02.693790: W tensorflow/compiler/tf2tensorrt/utils/py_utils.cc:38] TF-TRT Warning: Could not find TensorRT\n"
     ]
    },
    {
     "name": "stdout",
     "output_type": "stream",
     "text": [
      "4 Physical GPUs, 1 Logical GPU\n"
     ]
    },
    {
     "name": "stderr",
     "output_type": "stream",
     "text": [
      "2024-03-27 08:42:03.577575: I tensorflow/core/common_runtime/gpu/gpu_device.cc:1929] Created device /job:localhost/replica:0/task:0/device:GPU:0 with 5120 MB memory:  -> device: 2, name: NVIDIA L40S, pci bus id: 0000:ca:00.0, compute capability: 8.9\n"
     ]
    }
   ],
   "source": [
    "import tensorflow as tf\n",
    "# tf.debugging.set_log_device_placement(True)\n",
    "gpus = tf.config.list_physical_devices('GPU')\n",
    "tf.config.set_visible_devices(gpus[2], 'GPU')\n",
    "tf.config.set_logical_device_configuration(gpus[2], [tf.config.LogicalDeviceConfiguration(memory_limit=5*1024)])\n",
    "logical_gpus = tf.config.list_logical_devices('GPU')\n",
    "print(len(gpus), \"Physical GPUs,\", len(logical_gpus), \"Logical GPU\")\n"
   ]
  },
  {
   "cell_type": "code",
   "execution_count": 3,
   "id": "9b6155b1-7b35-476d-bed7-6ced56db95f1",
   "metadata": {},
   "outputs": [],
   "source": [
    "img_dir = \"/home/j-j10a205/Data/herb/training/image/data/\"\n",
    "resize_dir = \"/home/j-j10a205/Data/herb/training/image/lanczos/\"\n",
    "test_dir = \"/home/j-j10a205/Data/herb/training/image/test\"\n",
    "IMG_SIZE = (224, 224)\n",
    "INTERPOLATION = 'lanczos3'"
   ]
  },
  {
   "cell_type": "code",
   "execution_count": 4,
   "id": "2e2dc348-9bb3-4ca4-afa6-8035791a3182",
   "metadata": {},
   "outputs": [],
   "source": [
    "val_img_dir = \"/home/j-j10a205/Data/herb/validation/image/data/\"\n",
    "val_resize_dir = \"/home/j-j10a205/Data/herb/validation/image/lanczos/\"\n",
    "val_test_dir = \"/home/j-j10a205/Data/herb/validation/image/test\"\n",
    "IMG_SIZE = (224, 224)\n",
    "INTERPOLATION = 'lanczos3'"
   ]
  },
  {
   "cell_type": "code",
   "execution_count": 4,
   "id": "3bc4a562-8137-4233-8272-89db5970db33",
   "metadata": {},
   "outputs": [],
   "source": [
    "from tqdm import tqdm\n",
    "subdirs = os.listdir(img_dir)"
   ]
  },
  {
   "cell_type": "code",
   "execution_count": null,
   "id": "ec9ce3a6-73ad-439f-bd3c-d8f5452efd07",
   "metadata": {
    "editable": true,
    "scrolled": true,
    "slideshow": {
     "slide_type": ""
    },
    "tags": []
   },
   "outputs": [
    {
     "name": "stdout",
     "output_type": "stream",
     "text": [
      "018_배초향\n"
     ]
    },
    {
     "name": "stderr",
     "output_type": "stream",
     "text": [
      "100%|██████████| 11321/11321 [04:48<00:00, 39.20it/s]\n"
     ]
    },
    {
     "name": "stdout",
     "output_type": "stream",
     "text": [
      "121_가는잎향유\n"
     ]
    },
    {
     "name": "stderr",
     "output_type": "stream",
     "text": [
      "100%|██████████| 4723/4723 [07:14<00:00, 10.86it/s]\n"
     ]
    },
    {
     "name": "stdout",
     "output_type": "stream",
     "text": [
      "126_호도나무\n"
     ]
    },
    {
     "name": "stderr",
     "output_type": "stream",
     "text": [
      "100%|██████████| 2684/2684 [00:43<00:00, 62.02it/s] \n"
     ]
    },
    {
     "name": "stdout",
     "output_type": "stream",
     "text": [
      "104_치자\n"
     ]
    },
    {
     "name": "stderr",
     "output_type": "stream",
     "text": [
      "100%|██████████| 4970/4970 [03:04<00:00, 27.00it/s]\n"
     ]
    },
    {
     "name": "stdout",
     "output_type": "stream",
     "text": [
      "010_메꽃\n"
     ]
    },
    {
     "name": "stderr",
     "output_type": "stream",
     "text": [
      "100%|██████████| 1888/1888 [00:48<00:00, 38.71it/s]\n"
     ]
    },
    {
     "name": "stdout",
     "output_type": "stream",
     "text": [
      "017_회향\n"
     ]
    },
    {
     "name": "stderr",
     "output_type": "stream",
     "text": [
      "100%|██████████| 2056/2056 [00:28<00:00, 71.43it/s] \n"
     ]
    },
    {
     "name": "stdout",
     "output_type": "stream",
     "text": [
      "061_구릿대\n"
     ]
    },
    {
     "name": "stderr",
     "output_type": "stream",
     "text": [
      "100%|██████████| 6002/6002 [02:02<00:00, 48.83it/s] \n"
     ]
    },
    {
     "name": "stdout",
     "output_type": "stream",
     "text": [
      "080_흑오미자\n"
     ]
    },
    {
     "name": "stderr",
     "output_type": "stream",
     "text": [
      "100%|██████████| 2684/2684 [00:56<00:00, 47.13it/s]\n"
     ]
    },
    {
     "name": "stdout",
     "output_type": "stream",
     "text": [
      "083_쇠무릎\n"
     ]
    },
    {
     "name": "stderr",
     "output_type": "stream",
     "text": [
      "100%|██████████| 6720/6720 [04:06<00:00, 27.22it/s]\n"
     ]
    },
    {
     "name": "stdout",
     "output_type": "stream",
     "text": [
      "088_율무\n"
     ]
    },
    {
     "name": "stderr",
     "output_type": "stream",
     "text": [
      "100%|██████████| 5367/5367 [01:09<00:00, 77.42it/s] \n"
     ]
    },
    {
     "name": "stdout",
     "output_type": "stream",
     "text": [
      "012_둥근잎미국나팔꽃\n"
     ]
    },
    {
     "name": "stderr",
     "output_type": "stream",
     "text": [
      "100%|██████████| 3630/3630 [01:21<00:00, 44.60it/s]\n"
     ]
    },
    {
     "name": "stdout",
     "output_type": "stream",
     "text": [
      "049_작약\n"
     ]
    },
    {
     "name": "stderr",
     "output_type": "stream",
     "text": [
      "100%|██████████| 3430/3430 [00:53<00:00, 64.34it/s] \n"
     ]
    },
    {
     "name": "stdout",
     "output_type": "stream",
     "text": [
      "123_큰개현삼\n"
     ]
    },
    {
     "name": "stderr",
     "output_type": "stream",
     "text": [
      "100%|██████████| 2934/2934 [00:49<00:00, 59.52it/s] \n"
     ]
    },
    {
     "name": "stdout",
     "output_type": "stream",
     "text": [
      "058_이엽우피소\n"
     ]
    },
    {
     "name": "stderr",
     "output_type": "stream",
     "text": [
      "100%|██████████| 2388/2388 [01:05<00:00, 36.19it/s]\n"
     ]
    },
    {
     "name": "stdout",
     "output_type": "stream",
     "text": [
      "007_강황\n"
     ]
    },
    {
     "name": "stderr",
     "output_type": "stream",
     "text": [
      "100%|██████████| 12216/12216 [07:40<00:00, 26.50it/s]\n"
     ]
    },
    {
     "name": "stdout",
     "output_type": "stream",
     "text": [
      "118_향유\n"
     ]
    },
    {
     "name": "stderr",
     "output_type": "stream",
     "text": [
      "100%|██████████| 5559/5559 [01:05<00:00, 85.27it/s] \n"
     ]
    },
    {
     "name": "stdout",
     "output_type": "stream",
     "text": [
      "023_파(실파)\n"
     ]
    },
    {
     "name": "stderr",
     "output_type": "stream",
     "text": [
      "100%|██████████| 2042/2042 [00:35<00:00, 57.04it/s] \n"
     ]
    },
    {
     "name": "stdout",
     "output_type": "stream",
     "text": [
      "072_꽃창포\n"
     ]
    },
    {
     "name": "stderr",
     "output_type": "stream",
     "text": [
      "100%|██████████| 6219/6219 [01:39<00:00, 62.69it/s] \n"
     ]
    },
    {
     "name": "stdout",
     "output_type": "stream",
     "text": [
      "066_산수유나무\n"
     ]
    },
    {
     "name": "stderr",
     "output_type": "stream",
     "text": [
      "100%|██████████| 6700/6700 [01:24<00:00, 79.38it/s] \n"
     ]
    },
    {
     "name": "stdout",
     "output_type": "stream",
     "text": [
      "013_분꽃\n"
     ]
    },
    {
     "name": "stderr",
     "output_type": "stream",
     "text": [
      "100%|██████████| 3153/3153 [01:22<00:00, 38.38it/s]\n"
     ]
    },
    {
     "name": "stdout",
     "output_type": "stream",
     "text": [
      "014_결명자\n"
     ]
    },
    {
     "name": "stderr",
     "output_type": "stream",
     "text": [
      "100%|██████████| 7645/7645 [04:33<00:00, 27.92it/s]\n"
     ]
    },
    {
     "name": "stdout",
     "output_type": "stream",
     "text": [
      "015_고본\n"
     ]
    },
    {
     "name": "stderr",
     "output_type": "stream",
     "text": [
      "100%|██████████| 10180/10180 [06:09<00:00, 27.56it/s]\n"
     ]
    },
    {
     "name": "stdout",
     "output_type": "stream",
     "text": [
      "110_흰민들레\n"
     ]
    },
    {
     "name": "stderr",
     "output_type": "stream",
     "text": [
      "100%|██████████| 2016/2016 [00:43<00:00, 46.81it/s] \n"
     ]
    },
    {
     "name": "stdout",
     "output_type": "stream",
     "text": [
      "129_쇠뜨기\n"
     ]
    },
    {
     "name": "stderr",
     "output_type": "stream",
     "text": [
      "100%|██████████| 2848/2848 [01:13<00:00, 38.72it/s]\n"
     ]
    },
    {
     "name": "stdout",
     "output_type": "stream",
     "text": [
      "053_지리강활(개당귀)\n"
     ]
    },
    {
     "name": "stderr",
     "output_type": "stream",
     "text": [
      "100%|██████████| 2721/2721 [00:43<00:00, 62.48it/s] \n"
     ]
    },
    {
     "name": "stdout",
     "output_type": "stream",
     "text": [
      "043_쇠비름\n"
     ]
    },
    {
     "name": "stderr",
     "output_type": "stream",
     "text": [
      "100%|██████████| 5854/5854 [02:57<00:00, 32.89it/s]\n"
     ]
    },
    {
     "name": "stdout",
     "output_type": "stream",
     "text": [
      "078_삼백초\n"
     ]
    },
    {
     "name": "stderr",
     "output_type": "stream",
     "text": [
      "100%|██████████| 1986/1986 [01:07<00:00, 29.45it/s]\n"
     ]
    },
    {
     "name": "stdout",
     "output_type": "stream",
     "text": [
      "074_갯기름나물\n"
     ]
    },
    {
     "name": "stderr",
     "output_type": "stream",
     "text": [
      " 20%|█▉        | 902/4576 [00:24<01:28, 41.53it/s]"
     ]
    }
   ],
   "source": [
    "for subdir in subdirs:\n",
    "    # 원본 이미지 하위 디렉토리 경로\n",
    "    original_subdir = os.path.join(img_dir, subdir)\n",
    "    # 리사이즈된 이미지 저장 하위 디렉토리 경로\n",
    "    resized_subdir = os.path.join(resize_dir, subdir)\n",
    "\n",
    "    # 리사이즈된 이미지 저장 하위 디렉토리 생성\n",
    "    os.makedirs(resized_subdir, exist_ok=True)\n",
    "\n",
    "    # 원본 이미지 하위 디렉토리에서 파일 이름 가져오기\n",
    "    file_names = os.listdir(original_subdir)\n",
    "\n",
    "    print(subdir)\n",
    "    \n",
    "    for file_name in tqdm(file_names):\n",
    "        # 파일 경로 구성\n",
    "        original_path = os.path.join(original_subdir, file_name)\n",
    "        resized_path = os.path.join(resized_subdir, file_name)\n",
    "\n",
    "        # 이미지 파일인 경우에만 처리\n",
    "        if os.path.isfile(original_path) and file_name.lower().endswith(('.png', '.jpg', '.jpeg')):\n",
    "            # 이미지 읽어오기\n",
    "            image = tf.io.read_file(original_path)\n",
    "            image = tf.io.decode_image(image, channels=3)\n",
    "\n",
    "            # 이미지 리사이즈\n",
    "            image = tf.image.resize(image, IMG_SIZE, method=INTERPOLATION)\n",
    "\n",
    "            # float를 unit8로 변환\n",
    "            image = tf.cast(image, tf.uint8)\n",
    "\n",
    "            # 리사이즈된 이미지 저장\n",
    "            tf.io.write_file(resized_path, tf.io.encode_jpeg(image))\n",
    "            # print(f\"{file_name} resized and saved to {resized_path}\")"
   ]
  },
  {
   "cell_type": "code",
   "execution_count": null,
   "id": "1cd0a7dc-29fc-42da-9d8f-aa6aa8ba3969",
   "metadata": {},
   "outputs": [],
   "source": [
    "from tqdm import tqdm\n",
    "val_subdirs = os.listdir(val_img_dir)"
   ]
  },
  {
   "cell_type": "code",
   "execution_count": null,
   "id": "ef0b11bb-c114-4c99-a423-f3d056d7405e",
   "metadata": {},
   "outputs": [],
   "source": [
    "for subdir in val_subdirs:\n",
    "    # 원본 이미지 하위 디렉토리 경로\n",
    "    original_subdir = os.path.join(val_img_dir, subdir)\n",
    "    # 리사이즈된 이미지 저장 하위 디렉토리 경로\n",
    "    resized_subdir = os.path.join(val_resize_dir, subdir)\n",
    "\n",
    "    # 리사이즈된 이미지 저장 하위 디렉토리 생성\n",
    "    os.makedirs(resized_subdir, exist_ok=True)\n",
    "\n",
    "    # 원본 이미지 하위 디렉토리에서 파일 이름 가져오기\n",
    "    file_names = os.listdir(original_subdir)\n",
    "\n",
    "    print(subdir)\n",
    "    \n",
    "    for file_name in tqdm(file_names):\n",
    "        # 파일 경로 구성\n",
    "        original_path = os.path.join(original_subdir, file_name)\n",
    "        resized_path = os.path.join(resized_subdir, file_name)\n",
    "\n",
    "        # 이미지 파일인 경우에만 처리\n",
    "        if os.path.isfile(original_path) and file_name.lower().endswith(('.png', '.jpg', '.jpeg')):\n",
    "            # 이미지 읽어오기\n",
    "            image = tf.io.read_file(original_path)\n",
    "            image = tf.io.decode_image(image, channels=3)\n",
    "\n",
    "            # 이미지 리사이즈\n",
    "            image = tf.image.resize(image, IMG_SIZE, method=INTERPOLATION)\n",
    "\n",
    "            # float를 unit8로 변환\n",
    "            image = tf.cast(image, tf.uint8)\n",
    "\n",
    "            # 리사이즈된 이미지 저장\n",
    "            tf.io.write_file(resized_path, tf.io.encode_jpeg(image))\n",
    "            # print(f\"{file_name} resized and saved to {resized_path}\")"
   ]
  },
  {
   "cell_type": "markdown",
   "id": "d218a88e-0660-40ab-a5f5-c9cc5f480012",
   "metadata": {},
   "source": [
    "# 전처리한 데이터 검증"
   ]
  },
  {
   "cell_type": "code",
   "execution_count": 7,
   "id": "e4ad0223-8ec3-4f5f-98d0-4d7cfd71e6ee",
   "metadata": {},
   "outputs": [
    {
     "name": "stdout",
     "output_type": "stream",
     "text": [
      "Found 530250 files belonging to 128 classes.\n",
      "/home/j-j10a205/Data/herb/training/image/lanczos/\n"
     ]
    }
   ],
   "source": [
    "train_data = tf.keras.utils.image_dataset_from_directory(\n",
    "    resize_dir,\n",
    "    labels=\"inferred\",\n",
    "    label_mode=\"categorical\",\n",
    "    color_mode=\"rgb\",\n",
    "    image_size=IMG_SIZE,\n",
    "    shuffle=True,\n",
    "    interpolation=\"lanczos3\",\n",
    "    batch_size=64\n",
    ")\n",
    "print(resize_dir)"
   ]
  },
  {
   "cell_type": "code",
   "execution_count": 8,
   "id": "d0524d31-e3ce-423b-b4fc-95c930738f2a",
   "metadata": {},
   "outputs": [
    {
     "name": "stdout",
     "output_type": "stream",
     "text": [
      "Found 66246 files belonging to 128 classes.\n",
      "/home/j-j10a205/Data/herb/validation/image/lanczos/\n"
     ]
    }
   ],
   "source": [
    "validation_data_origin = tf.keras.utils.image_dataset_from_directory(\n",
    "    val_resize_dir, \n",
    "    labels=\"inferred\",\n",
    "    label_mode=\"categorical\",\n",
    "    color_mode=\"rgb\",\n",
    "    image_size=IMG_SIZE,\n",
    "    shuffle=True,\n",
    "    interpolation=\"lanczos3\",\n",
    "    batch_size=64\n",
    ")\n",
    "print(val_resize_dir)"
   ]
  },
  {
   "cell_type": "code",
   "execution_count": 9,
   "id": "0362d783-1936-426f-b023-29fa18e5337b",
   "metadata": {},
   "outputs": [
    {
     "name": "stderr",
     "output_type": "stream",
     "text": [
      "100%|██████████| 530250/530250 [01:53<00:00, 4684.24it/s]\n",
      "100%|██████████| 66246/66246 [00:14<00:00, 4532.75it/s]\n"
     ]
    }
   ],
   "source": [
    "from struct import unpack\n",
    "from tqdm import tqdm\n",
    "\n",
    "marker_mapping = {\n",
    "    0xffd8: \"Start of Image\",\n",
    "    0xffe0: \"Application Default Header\",\n",
    "    0xffdb: \"Quantization Table\",\n",
    "    0xffc0: \"Start of Frame\",\n",
    "    0xffc4: \"Define Huffman Table\",\n",
    "    0xffda: \"Start of Scan\",\n",
    "    0xffd9: \"End of Image\"\n",
    "}\n",
    "\n",
    "class JPEG:\n",
    "    def __init__(self, image_file):\n",
    "        with open(image_file, 'rb') as f:\n",
    "            self.img_data = f.read()\n",
    "    \n",
    "    def decode(self):\n",
    "        data = self.img_data\n",
    "        while(True):\n",
    "            marker, = unpack(\">H\", data[0:2])\n",
    "            # print(marker_mapping.get(marker))\n",
    "            if marker == 0xffd8:\n",
    "                data = data[2:]\n",
    "            elif marker == 0xffd9:\n",
    "                return\n",
    "            elif marker == 0xffda:\n",
    "                data = data[-2:]\n",
    "            else:\n",
    "                lenchunk, = unpack(\">H\", data[2:4])\n",
    "                data = data[2+lenchunk:]            \n",
    "            if len(data)==0:\n",
    "                break        \n",
    "    \n",
    "bads = []\n",
    "\n",
    "# check_data = tf.data.Dataset.list_files(train_data.file_paths)\n",
    "# 괜히 병렬로 검증하겠다고 시도하지 말고 얌전히 for문 쓰자\n",
    "for img in tqdm(train_data.file_paths):\n",
    "    image = JPEG(img) \n",
    "    try:\n",
    "      image.decode()   \n",
    "    except:\n",
    "      bads.append(img)\n",
    "for img in tqdm(validation_data_origin.file_paths):\n",
    "    image = JPEG(img) \n",
    "    try:\n",
    "      image.decode()   \n",
    "    except:\n",
    "        bads.append(img)"
   ]
  },
  {
   "cell_type": "code",
   "execution_count": 10,
   "id": "e9f7311b-67c7-4b43-91e3-17811b753c25",
   "metadata": {},
   "outputs": [
    {
     "data": {
      "text/plain": [
       "[]"
      ]
     },
     "execution_count": 10,
     "metadata": {},
     "output_type": "execute_result"
    }
   ],
   "source": [
    "bads"
   ]
  },
  {
   "cell_type": "code",
   "execution_count": null,
   "id": "5a7fe186-8e99-44dd-aea2-3f5eaf6f46dd",
   "metadata": {},
   "outputs": [],
   "source": []
  }
 ],
 "metadata": {
  "kernelspec": {
   "display_name": "herb",
   "language": "python",
   "name": "herb"
  },
  "language_info": {
   "codemirror_mode": {
    "name": "ipython",
    "version": 3
   },
   "file_extension": ".py",
   "mimetype": "text/x-python",
   "name": "python",
   "nbconvert_exporter": "python",
   "pygments_lexer": "ipython3",
   "version": "3.11.8"
  }
 },
 "nbformat": 4,
 "nbformat_minor": 5
}
